{
 "cells": [
  {
   "cell_type": "code",
   "execution_count": 82,
   "metadata": {},
   "outputs": [],
   "source": [
    "import pandas as pd\n",
    "import math as math\n",
    "\n",
    "column_all = 1 #Нужно задать, есть ли столбец total (1=есть, 2=нет)\n",
    "\n",
    "def higher(share1, share2, base1, base2):\n",
    "    se = math.sqrt((share1 * (100-share1)) / base1 + (share2 * (100-share2)) / base2)\n",
    "    if share1 - share2 > se * 1.96:\n",
    "        return True\n",
    "    return False\n",
    "\n",
    "df = pd.read_clipboard(sep='\\t', decimal=\",\")\n",
    "\n",
    "new_columns = ['name']\n",
    "\n",
    "if column_all == 1:\n",
    "    new_columns += ['Все']\n",
    "\n",
    "for i in range(1 + column_all,len(df.columns)):\n",
    "    new_columns += [df.columns[i] + ' letter']\n",
    "    new_columns += [df.columns[i] + ' low']\n",
    "    new_columns += [df.columns[i] + ' hi']\n",
    "    new_columns += [df.columns[i] + ' letter place']\n",
    "\n",
    "new = pd.DataFrame(index=df.index,columns=new_columns)\n",
    "new.iloc[:,0] = df.iloc[:,0]\n",
    "if column_all == 1:\n",
    "    new.iloc[1:,1] = df.iloc[1:,1]\n",
    "new = new.fillna('')\n",
    "\n",
    "letter = ['', 'A', 'B', 'C', 'D', 'E', 'F', 'G', 'H', 'I', 'J', 'K']\n",
    "\n",
    "for my_string in range(1, len(df)):\n",
    "    counter = 0\n",
    "    for my_column in range(1 + column_all, len(df.columns)):\n",
    "        new.iloc[my_string, 4 * (my_column - 1 - column_all) + 2 + column_all] = df.iloc[my_string, my_column]\n",
    "        for other_column in range(1 + column_all, len(df.columns)):\n",
    "            if my_column != other_column:\n",
    "                if higher(df.iloc[my_string, my_column],\n",
    "                          df.iloc[my_string, other_column],\n",
    "                          df.iloc[0, my_column],\n",
    "                          df.iloc[0, other_column]):\n",
    "                    new.iloc[my_string, 4 * (my_column - 1 - column_all) + 1 + column_all] += letter[other_column - column_all]\n",
    "                    new.iloc[my_string, 4 * (my_column - 1 - column_all) + 3 + column_all] = df.iloc[my_string, my_column]               \n",
    "                    new.iloc[my_string, 4 * (my_column - 1 - column_all) + 2 + column_all] = ''\n",
    "        new.iloc[my_string, 4 * (my_column - 1 - column_all) + 4  + column_all] = df.iloc[my_string, my_column] + 10\n",
    "        counter += 1\n",
    "                    \n",
    "\n",
    "new[new.columns[1:]] = new[new.columns[1:]].astype(str)\n",
    "\n",
    "for column in new[new.columns[1:]].columns:\n",
    "    new[column] = new[column].str.replace('.', ',')\n",
    "\n",
    "new.to_clipboard()"
   ]
  },
  {
   "cell_type": "code",
   "execution_count": null,
   "metadata": {},
   "outputs": [],
   "source": []
  },
  {
   "cell_type": "code",
   "execution_count": null,
   "metadata": {},
   "outputs": [],
   "source": []
  }
 ],
 "metadata": {
  "kernelspec": {
   "display_name": "Python 3",
   "language": "python",
   "name": "python3"
  },
  "language_info": {
   "codemirror_mode": {
    "name": "ipython",
    "version": 3
   },
   "file_extension": ".py",
   "mimetype": "text/x-python",
   "name": "python",
   "nbconvert_exporter": "python",
   "pygments_lexer": "ipython3",
   "version": "3.7.3"
  }
 },
 "nbformat": 4,
 "nbformat_minor": 2
}
